{
 "cells": [
  {
   "cell_type": "markdown",
   "id": "8cab10d9",
   "metadata": {
    "papermill": {
     "duration": 0.02689,
     "end_time": "2021-11-04T18:56:00.543476",
     "exception": false,
     "start_time": "2021-11-04T18:56:00.516586",
     "status": "completed"
    },
    "tags": []
   },
   "source": [
    "### Problem\n",
    "\n",
    "We are given data from an Audiobook App. Logically, it relates to the audio versions of books ONLY. Each customer in the database has made a purchase at least once, that's why he/she is in the database. We want to create a machine learning algorithm based on our available data that can predict if a customer will buy again from the Audiobook company.\n",
    "\n",
    "The main idea is that if a customer has a low probability of coming back, there is no reason to spend any money on advertising to him/her. If we can focus our efforts SOLELY on customers that are likely to convert again, we can make great savings. Moreover, this model can identify the most important metrics for a customer to come back again. Identifying new customers creates value and growth opportunities.\n",
    "\n",
    "We have a .csv summarizing the data. There are several variables: Customer ID, ), Book length overall (sum of the minute length of all purchases), Book length avg (average length in minutes of all purchases), Price paid_overall (sum of all purchases) ,Price Paid avg (average of all purchases), Review (a Boolean variable whether the customer left a review), Review out of 10 (if the customer left a review, his/her review out of 10, Total minutes listened, Completion (from 0 to 1), Support requests (number of support requests; everything from forgotten password to assistance for using the App), and Last visited minus purchase date (in days).\n",
    "\n",
    "These are the inputs (excluding customer ID, as it is completely arbitrary. It's more like a name, than a number).\n",
    "\n",
    "The targets are a Boolean variable (0 or 1). We are taking a period of 2 years in our inputs, and the next 6 months as targets. So, in fact, we are predicting if: based on the last 2 years of activity and engagement, a customer will convert in the next 6 months. 6 months sounds like a reasonable time. If they don't convert after 6 months, chances are they've gone to a competitor or didn't like the Audiobook way of digesting information. \n",
    "\n",
    "The task is simple: create a machine learning algorithm, which is able to predict if a customer will buy again. \n",
    "\n",
    "This is a classification problem with two classes: won't buy and will buy, represented by 0s and 1s. \n",
    "\n",
    "Let's start!!!"
   ]
  },
  {
   "cell_type": "markdown",
   "id": "cf411b2a",
   "metadata": {
    "papermill": {
     "duration": 0.021218,
     "end_time": "2021-11-04T18:56:00.586684",
     "exception": false,
     "start_time": "2021-11-04T18:56:00.565466",
     "status": "completed"
    },
    "tags": []
   },
   "source": [
    "## Preprocess the data. Balance the dataset. Create 3 datasets: training, validation, and test. Save the newly created sets in a tensor friendly format (e.g. *.npz)\n",
    "\n",
    "Since we are dealing with real life data, we will need to preprocess it a bit. This is the relevant code, which is not that hard, but is crucial to creating a good model.\n",
    "\n",
    "If we want to know how to do that, go through the code with comments. In any case, this should do the trick for most datasets organized in the way: many inputs, and then 1 cell containing the targets (supersized learning datasets). Keep in mind that a specific problem may require additional preprocessing.\n",
    "\n",
    "Note that we have removed the header row, which contains the names of the categories. We simply want the data."
   ]
  },
  {
   "cell_type": "markdown",
   "id": "c78aa4b5",
   "metadata": {
    "papermill": {
     "duration": 0.021043,
     "end_time": "2021-11-04T18:56:00.629382",
     "exception": false,
     "start_time": "2021-11-04T18:56:00.608339",
     "status": "completed"
    },
    "tags": []
   },
   "source": [
    "### Loading the Data"
   ]
  },
  {
   "cell_type": "code",
   "execution_count": 1,
   "id": "f324ebc9",
   "metadata": {
    "_cell_guid": "b1076dfc-b9ad-4769-8c92-a6c4dae69d19",
    "_uuid": "8f2839f25d086af736a60e9eeb907d3b93b6e0e5",
    "execution": {
     "iopub.execute_input": "2021-11-04T18:56:00.688466Z",
     "iopub.status.busy": "2021-11-04T18:56:00.684356Z",
     "iopub.status.idle": "2021-11-04T18:56:00.701380Z",
     "shell.execute_reply": "2021-11-04T18:56:00.702229Z",
     "shell.execute_reply.started": "2021-11-04T18:54:30.489610Z"
    },
    "papermill": {
     "duration": 0.051131,
     "end_time": "2021-11-04T18:56:00.702691",
     "exception": false,
     "start_time": "2021-11-04T18:56:00.651560",
     "status": "completed"
    },
    "tags": []
   },
   "outputs": [
    {
     "name": "stdout",
     "output_type": "stream",
     "text": [
      "/kaggle/input/audiobook-app-data/audiobook_data_2.csv\n"
     ]
    }
   ],
   "source": [
    "import os\n",
    "for dirname, _, filenames in os.walk('/kaggle/input'):\n",
    "    for filename in filenames:\n",
    "        print(os.path.join(dirname, filename))"
   ]
  },
  {
   "cell_type": "markdown",
   "id": "42befb4d",
   "metadata": {
    "papermill": {
     "duration": 0.021722,
     "end_time": "2021-11-04T18:56:00.747798",
     "exception": false,
     "start_time": "2021-11-04T18:56:00.726076",
     "status": "completed"
    },
    "tags": []
   },
   "source": [
    "### Extract the data from the csv"
   ]
  },
  {
   "cell_type": "code",
   "execution_count": 2,
   "id": "c5f790e5",
   "metadata": {
    "execution": {
     "iopub.execute_input": "2021-11-04T18:56:00.799326Z",
     "iopub.status.busy": "2021-11-04T18:56:00.798509Z",
     "iopub.status.idle": "2021-11-04T18:56:07.294149Z",
     "shell.execute_reply": "2021-11-04T18:56:07.293398Z",
     "shell.execute_reply.started": "2021-11-04T18:54:30.507358Z"
    },
    "papermill": {
     "duration": 6.524316,
     "end_time": "2021-11-04T18:56:07.294318",
     "exception": false,
     "start_time": "2021-11-04T18:56:00.770002",
     "status": "completed"
    },
    "tags": []
   },
   "outputs": [
    {
     "data": {
      "text/html": [
       "<div>\n",
       "<style scoped>\n",
       "    .dataframe tbody tr th:only-of-type {\n",
       "        vertical-align: middle;\n",
       "    }\n",
       "\n",
       "    .dataframe tbody tr th {\n",
       "        vertical-align: top;\n",
       "    }\n",
       "\n",
       "    .dataframe thead th {\n",
       "        text-align: right;\n",
       "    }\n",
       "</style>\n",
       "<table border=\"1\" class=\"dataframe\">\n",
       "  <thead>\n",
       "    <tr style=\"text-align: right;\">\n",
       "      <th></th>\n",
       "      <th>Unnamed: 0</th>\n",
       "      <th>Book_length(mins)_overall</th>\n",
       "      <th>Book_length(mins)_avg</th>\n",
       "      <th>Price_overall</th>\n",
       "      <th>Price_avg</th>\n",
       "      <th>Review</th>\n",
       "      <th>Review10/10</th>\n",
       "      <th>Completion</th>\n",
       "      <th>Minutes_listened</th>\n",
       "      <th>Support_Request</th>\n",
       "      <th>Last_Visited_mins_Purchase_date</th>\n",
       "      <th>Target</th>\n",
       "    </tr>\n",
       "  </thead>\n",
       "  <tbody>\n",
       "    <tr>\n",
       "      <th>0</th>\n",
       "      <td>994</td>\n",
       "      <td>1620.0</td>\n",
       "      <td>1620</td>\n",
       "      <td>19.73</td>\n",
       "      <td>19.73</td>\n",
       "      <td>1</td>\n",
       "      <td>10.00</td>\n",
       "      <td>0.99</td>\n",
       "      <td>1603.8</td>\n",
       "      <td>5</td>\n",
       "      <td>92</td>\n",
       "      <td>0</td>\n",
       "    </tr>\n",
       "    <tr>\n",
       "      <th>1</th>\n",
       "      <td>1143</td>\n",
       "      <td>2160.0</td>\n",
       "      <td>2160</td>\n",
       "      <td>5.33</td>\n",
       "      <td>5.33</td>\n",
       "      <td>0</td>\n",
       "      <td>8.91</td>\n",
       "      <td>0.00</td>\n",
       "      <td>0.0</td>\n",
       "      <td>0</td>\n",
       "      <td>0</td>\n",
       "      <td>0</td>\n",
       "    </tr>\n",
       "    <tr>\n",
       "      <th>2</th>\n",
       "      <td>2059</td>\n",
       "      <td>2160.0</td>\n",
       "      <td>2160</td>\n",
       "      <td>5.33</td>\n",
       "      <td>5.33</td>\n",
       "      <td>0</td>\n",
       "      <td>8.91</td>\n",
       "      <td>0.00</td>\n",
       "      <td>0.0</td>\n",
       "      <td>0</td>\n",
       "      <td>388</td>\n",
       "      <td>0</td>\n",
       "    </tr>\n",
       "    <tr>\n",
       "      <th>3</th>\n",
       "      <td>2882</td>\n",
       "      <td>1620.0</td>\n",
       "      <td>1620</td>\n",
       "      <td>5.96</td>\n",
       "      <td>5.96</td>\n",
       "      <td>0</td>\n",
       "      <td>8.91</td>\n",
       "      <td>0.42</td>\n",
       "      <td>680.4</td>\n",
       "      <td>1</td>\n",
       "      <td>129</td>\n",
       "      <td>0</td>\n",
       "    </tr>\n",
       "    <tr>\n",
       "      <th>4</th>\n",
       "      <td>3342</td>\n",
       "      <td>2160.0</td>\n",
       "      <td>2160</td>\n",
       "      <td>5.33</td>\n",
       "      <td>5.33</td>\n",
       "      <td>0</td>\n",
       "      <td>8.91</td>\n",
       "      <td>0.22</td>\n",
       "      <td>475.2</td>\n",
       "      <td>0</td>\n",
       "      <td>361</td>\n",
       "      <td>0</td>\n",
       "    </tr>\n",
       "  </tbody>\n",
       "</table>\n",
       "</div>"
      ],
      "text/plain": [
       "   Unnamed: 0  Book_length(mins)_overall  Book_length(mins)_avg  \\\n",
       "0         994                     1620.0                   1620   \n",
       "1        1143                     2160.0                   2160   \n",
       "2        2059                     2160.0                   2160   \n",
       "3        2882                     1620.0                   1620   \n",
       "4        3342                     2160.0                   2160   \n",
       "\n",
       "   Price_overall  Price_avg  Review  Review10/10  Completion  \\\n",
       "0          19.73      19.73       1        10.00        0.99   \n",
       "1           5.33       5.33       0         8.91        0.00   \n",
       "2           5.33       5.33       0         8.91        0.00   \n",
       "3           5.96       5.96       0         8.91        0.42   \n",
       "4           5.33       5.33       0         8.91        0.22   \n",
       "\n",
       "   Minutes_listened  Support_Request  Last_Visited_mins_Purchase_date  Target  \n",
       "0            1603.8                5                               92       0  \n",
       "1               0.0                0                                0       0  \n",
       "2               0.0                0                              388       0  \n",
       "3             680.4                1                              129       0  \n",
       "4             475.2                0                              361       0  "
      ]
     },
     "execution_count": 2,
     "metadata": {},
     "output_type": "execute_result"
    }
   ],
   "source": [
    "import numpy as np\n",
    "import pandas as pd\n",
    "import tensorflow as tf\n",
    "\n",
    "# We will use the sklearn preprocessing library, as it will be easier to standardize the data.\n",
    "from sklearn import preprocessing\n",
    "\n",
    "# Load the data\n",
    "raw_csv_data = pd.read_csv('/kaggle/input/audiobook-app-data/audiobook_data_2.csv')\n",
    "raw_csv_data.head()"
   ]
  },
  {
   "cell_type": "code",
   "execution_count": 3,
   "id": "6599a49e",
   "metadata": {
    "execution": {
     "iopub.execute_input": "2021-11-04T18:56:07.360562Z",
     "iopub.status.busy": "2021-11-04T18:56:07.359428Z",
     "iopub.status.idle": "2021-11-04T18:56:07.364359Z",
     "shell.execute_reply": "2021-11-04T18:56:07.363690Z",
     "shell.execute_reply.started": "2021-11-04T18:54:30.553512Z"
    },
    "papermill": {
     "duration": 0.045025,
     "end_time": "2021-11-04T18:56:07.364534",
     "exception": false,
     "start_time": "2021-11-04T18:56:07.319509",
     "status": "completed"
    },
    "tags": []
   },
   "outputs": [],
   "source": [
    "# The inputs are all columns in the csv, except for the first one [:,0]\n",
    "# (which is just the arbitrary customer IDs that bear no useful information),\n",
    "# and the last one [:,-1] (which is our targets)\n",
    "\n",
    "unscaled_inputs_all = raw_csv_data.iloc[:,1:-1]\n",
    "\n",
    "# The targets are in the last column. That's how datasets are conventionally organized.\n",
    "targets_all = raw_csv_data.iloc[:,-1]"
   ]
  },
  {
   "cell_type": "code",
   "execution_count": 4,
   "id": "ebdecbfa",
   "metadata": {
    "execution": {
     "iopub.execute_input": "2021-11-04T18:56:07.418367Z",
     "iopub.status.busy": "2021-11-04T18:56:07.417635Z",
     "iopub.status.idle": "2021-11-04T18:56:07.437048Z",
     "shell.execute_reply": "2021-11-04T18:56:07.436100Z",
     "shell.execute_reply.started": "2021-11-04T18:54:30.560721Z"
    },
    "papermill": {
     "duration": 0.047815,
     "end_time": "2021-11-04T18:56:07.437268",
     "exception": false,
     "start_time": "2021-11-04T18:56:07.389453",
     "status": "completed"
    },
    "tags": []
   },
   "outputs": [
    {
     "name": "stdout",
     "output_type": "stream",
     "text": [
      "<class 'pandas.core.frame.DataFrame'>\n"
     ]
    },
    {
     "data": {
      "text/html": [
       "<div>\n",
       "<style scoped>\n",
       "    .dataframe tbody tr th:only-of-type {\n",
       "        vertical-align: middle;\n",
       "    }\n",
       "\n",
       "    .dataframe tbody tr th {\n",
       "        vertical-align: top;\n",
       "    }\n",
       "\n",
       "    .dataframe thead th {\n",
       "        text-align: right;\n",
       "    }\n",
       "</style>\n",
       "<table border=\"1\" class=\"dataframe\">\n",
       "  <thead>\n",
       "    <tr style=\"text-align: right;\">\n",
       "      <th></th>\n",
       "      <th>Book_length(mins)_overall</th>\n",
       "      <th>Book_length(mins)_avg</th>\n",
       "      <th>Price_overall</th>\n",
       "      <th>Price_avg</th>\n",
       "      <th>Review</th>\n",
       "      <th>Review10/10</th>\n",
       "      <th>Completion</th>\n",
       "      <th>Minutes_listened</th>\n",
       "      <th>Support_Request</th>\n",
       "      <th>Last_Visited_mins_Purchase_date</th>\n",
       "    </tr>\n",
       "  </thead>\n",
       "  <tbody>\n",
       "    <tr>\n",
       "      <th>0</th>\n",
       "      <td>1620.0</td>\n",
       "      <td>1620</td>\n",
       "      <td>19.73</td>\n",
       "      <td>19.73</td>\n",
       "      <td>1</td>\n",
       "      <td>10.00</td>\n",
       "      <td>0.99</td>\n",
       "      <td>1603.8</td>\n",
       "      <td>5</td>\n",
       "      <td>92</td>\n",
       "    </tr>\n",
       "    <tr>\n",
       "      <th>1</th>\n",
       "      <td>2160.0</td>\n",
       "      <td>2160</td>\n",
       "      <td>5.33</td>\n",
       "      <td>5.33</td>\n",
       "      <td>0</td>\n",
       "      <td>8.91</td>\n",
       "      <td>0.00</td>\n",
       "      <td>0.0</td>\n",
       "      <td>0</td>\n",
       "      <td>0</td>\n",
       "    </tr>\n",
       "    <tr>\n",
       "      <th>2</th>\n",
       "      <td>2160.0</td>\n",
       "      <td>2160</td>\n",
       "      <td>5.33</td>\n",
       "      <td>5.33</td>\n",
       "      <td>0</td>\n",
       "      <td>8.91</td>\n",
       "      <td>0.00</td>\n",
       "      <td>0.0</td>\n",
       "      <td>0</td>\n",
       "      <td>388</td>\n",
       "    </tr>\n",
       "    <tr>\n",
       "      <th>3</th>\n",
       "      <td>1620.0</td>\n",
       "      <td>1620</td>\n",
       "      <td>5.96</td>\n",
       "      <td>5.96</td>\n",
       "      <td>0</td>\n",
       "      <td>8.91</td>\n",
       "      <td>0.42</td>\n",
       "      <td>680.4</td>\n",
       "      <td>1</td>\n",
       "      <td>129</td>\n",
       "    </tr>\n",
       "    <tr>\n",
       "      <th>4</th>\n",
       "      <td>2160.0</td>\n",
       "      <td>2160</td>\n",
       "      <td>5.33</td>\n",
       "      <td>5.33</td>\n",
       "      <td>0</td>\n",
       "      <td>8.91</td>\n",
       "      <td>0.22</td>\n",
       "      <td>475.2</td>\n",
       "      <td>0</td>\n",
       "      <td>361</td>\n",
       "    </tr>\n",
       "  </tbody>\n",
       "</table>\n",
       "</div>"
      ],
      "text/plain": [
       "   Book_length(mins)_overall  Book_length(mins)_avg  Price_overall  Price_avg  \\\n",
       "0                     1620.0                   1620          19.73      19.73   \n",
       "1                     2160.0                   2160           5.33       5.33   \n",
       "2                     2160.0                   2160           5.33       5.33   \n",
       "3                     1620.0                   1620           5.96       5.96   \n",
       "4                     2160.0                   2160           5.33       5.33   \n",
       "\n",
       "   Review  Review10/10  Completion  Minutes_listened  Support_Request  \\\n",
       "0       1        10.00        0.99            1603.8                5   \n",
       "1       0         8.91        0.00               0.0                0   \n",
       "2       0         8.91        0.00               0.0                0   \n",
       "3       0         8.91        0.42             680.4                1   \n",
       "4       0         8.91        0.22             475.2                0   \n",
       "\n",
       "   Last_Visited_mins_Purchase_date  \n",
       "0                               92  \n",
       "1                                0  \n",
       "2                              388  \n",
       "3                              129  \n",
       "4                              361  "
      ]
     },
     "execution_count": 4,
     "metadata": {},
     "output_type": "execute_result"
    }
   ],
   "source": [
    "print(type(unscaled_inputs_all))\n",
    "unscaled_inputs_all.head()"
   ]
  },
  {
   "cell_type": "code",
   "execution_count": 5,
   "id": "4141d76c",
   "metadata": {
    "execution": {
     "iopub.execute_input": "2021-11-04T18:56:07.494085Z",
     "iopub.status.busy": "2021-11-04T18:56:07.493138Z",
     "iopub.status.idle": "2021-11-04T18:56:07.503017Z",
     "shell.execute_reply": "2021-11-04T18:56:07.502332Z",
     "shell.execute_reply.started": "2021-11-04T18:54:30.587147Z"
    },
    "papermill": {
     "duration": 0.037054,
     "end_time": "2021-11-04T18:56:07.503176",
     "exception": false,
     "start_time": "2021-11-04T18:56:07.466122",
     "status": "completed"
    },
    "tags": []
   },
   "outputs": [
    {
     "name": "stdout",
     "output_type": "stream",
     "text": [
      "<class 'pandas.core.series.Series'>\n"
     ]
    },
    {
     "data": {
      "text/plain": [
       "0    0\n",
       "1    0\n",
       "2    0\n",
       "3    0\n",
       "4    0\n",
       "Name: Target, dtype: int64"
      ]
     },
     "execution_count": 5,
     "metadata": {},
     "output_type": "execute_result"
    }
   ],
   "source": [
    "print(type(targets_all))\n",
    "targets_all.head()"
   ]
  },
  {
   "cell_type": "code",
   "execution_count": 6,
   "id": "9a05dce7",
   "metadata": {
    "execution": {
     "iopub.execute_input": "2021-11-04T18:56:07.560773Z",
     "iopub.status.busy": "2021-11-04T18:56:07.559933Z",
     "iopub.status.idle": "2021-11-04T18:56:07.564689Z",
     "shell.execute_reply": "2021-11-04T18:56:07.564115Z",
     "shell.execute_reply.started": "2021-11-04T18:54:30.596242Z"
    },
    "papermill": {
     "duration": 0.036443,
     "end_time": "2021-11-04T18:56:07.564866",
     "exception": false,
     "start_time": "2021-11-04T18:56:07.528423",
     "status": "completed"
    },
    "tags": []
   },
   "outputs": [],
   "source": [
    "unscaled_inputs_all = unscaled_inputs_all.to_numpy()\n",
    "targets_all = targets_all.to_numpy()"
   ]
  },
  {
   "cell_type": "code",
   "execution_count": 7,
   "id": "1cdb48a9",
   "metadata": {
    "execution": {
     "iopub.execute_input": "2021-11-04T18:56:07.621261Z",
     "iopub.status.busy": "2021-11-04T18:56:07.620168Z",
     "iopub.status.idle": "2021-11-04T18:56:07.628749Z",
     "shell.execute_reply": "2021-11-04T18:56:07.627610Z",
     "shell.execute_reply.started": "2021-11-04T18:54:30.606129Z"
    },
    "papermill": {
     "duration": 0.03851,
     "end_time": "2021-11-04T18:56:07.629025",
     "exception": false,
     "start_time": "2021-11-04T18:56:07.590515",
     "status": "completed"
    },
    "tags": []
   },
   "outputs": [
    {
     "name": "stdout",
     "output_type": "stream",
     "text": [
      "<class 'numpy.ndarray'>\n",
      "<class 'numpy.ndarray'>\n"
     ]
    }
   ],
   "source": [
    "print(type(unscaled_inputs_all))\n",
    "print(type(targets_all))"
   ]
  },
  {
   "cell_type": "markdown",
   "id": "ce4c3e21",
   "metadata": {
    "papermill": {
     "duration": 0.025591,
     "end_time": "2021-11-04T18:56:07.683040",
     "exception": false,
     "start_time": "2021-11-04T18:56:07.657449",
     "status": "completed"
    },
    "tags": []
   },
   "source": [
    "### Balance the dataset"
   ]
  },
  {
   "cell_type": "code",
   "execution_count": 8,
   "id": "9729e235",
   "metadata": {
    "execution": {
     "iopub.execute_input": "2021-11-04T18:56:07.746064Z",
     "iopub.status.busy": "2021-11-04T18:56:07.745367Z",
     "iopub.status.idle": "2021-11-04T18:56:07.768053Z",
     "shell.execute_reply": "2021-11-04T18:56:07.767440Z",
     "shell.execute_reply.started": "2021-11-04T18:54:30.618774Z"
    },
    "papermill": {
     "duration": 0.055869,
     "end_time": "2021-11-04T18:56:07.768230",
     "exception": false,
     "start_time": "2021-11-04T18:56:07.712361",
     "status": "completed"
    },
    "tags": []
   },
   "outputs": [],
   "source": [
    "# Count how many targets are 1 (meaning that the customer did convert)\n",
    "num_one_targets = int(np.sum(targets_all))\n",
    "\n",
    "# Set a counter for targets that are 0 (meaning that the customer did not convert)\n",
    "zero_targets_counter = 0\n",
    "\n",
    "# We want to create a \"balanced\" dataset, so we will have to remove some input/target pairs.\n",
    "# Declare a variable that will do that:\n",
    "indices_to_remove = []\n",
    "\n",
    "# Count the number of targets that are 0. \n",
    "# Once there are as many 0s as 1s, mark entries where the target is 0.\n",
    "for i in range(targets_all.shape[0]):\n",
    "    if targets_all[i] == 0:\n",
    "        zero_targets_counter += 1\n",
    "        if zero_targets_counter > num_one_targets:\n",
    "            indices_to_remove.append(i)"
   ]
  },
  {
   "cell_type": "code",
   "execution_count": 9,
   "id": "a2392c51",
   "metadata": {
    "execution": {
     "iopub.execute_input": "2021-11-04T18:56:07.829447Z",
     "iopub.status.busy": "2021-11-04T18:56:07.828316Z",
     "iopub.status.idle": "2021-11-04T18:56:07.835036Z",
     "shell.execute_reply": "2021-11-04T18:56:07.834153Z",
     "shell.execute_reply.started": "2021-11-04T18:54:30.648299Z"
    },
    "papermill": {
     "duration": 0.039781,
     "end_time": "2021-11-04T18:56:07.835228",
     "exception": false,
     "start_time": "2021-11-04T18:56:07.795447",
     "status": "completed"
    },
    "tags": []
   },
   "outputs": [],
   "source": [
    "# Create two new variables, one that will contain the inputs, and one that will contain the targets.\n",
    "# We delete all indices that we marked \"to remove\" in the loop above.\n",
    "unscaled_inputs_equal_priors = np.delete(unscaled_inputs_all, indices_to_remove, axis=0)\n",
    "targets_equal_priors = np.delete(targets_all, indices_to_remove, axis=0)"
   ]
  },
  {
   "cell_type": "markdown",
   "id": "d5847d89",
   "metadata": {
    "papermill": {
     "duration": 0.025312,
     "end_time": "2021-11-04T18:56:07.887360",
     "exception": false,
     "start_time": "2021-11-04T18:56:07.862048",
     "status": "completed"
    },
    "tags": []
   },
   "source": [
    "### Standardize the inputs"
   ]
  },
  {
   "cell_type": "code",
   "execution_count": 10,
   "id": "63255af5",
   "metadata": {
    "execution": {
     "iopub.execute_input": "2021-11-04T18:56:07.943821Z",
     "iopub.status.busy": "2021-11-04T18:56:07.943122Z",
     "iopub.status.idle": "2021-11-04T18:56:07.950600Z",
     "shell.execute_reply": "2021-11-04T18:56:07.951299Z",
     "shell.execute_reply.started": "2021-11-04T18:54:30.660987Z"
    },
    "papermill": {
     "duration": 0.037577,
     "end_time": "2021-11-04T18:56:07.951519",
     "exception": false,
     "start_time": "2021-11-04T18:56:07.913942",
     "status": "completed"
    },
    "tags": []
   },
   "outputs": [],
   "source": [
    "# That's the only place we use sklearn functionality. We will take advantage of its preprocessing capabilities\n",
    "# It's a simple line of code, which standardizes the inputs, as we explained in one of the lectures.\n",
    "# At the end of the business case, you can try to run the algorithm WITHOUT this line of code. \n",
    "# The result will be interesting.\n",
    "scaled_inputs = preprocessing.scale(unscaled_inputs_equal_priors)"
   ]
  },
  {
   "cell_type": "markdown",
   "id": "1200f715",
   "metadata": {
    "papermill": {
     "duration": 0.027255,
     "end_time": "2021-11-04T18:56:08.006489",
     "exception": false,
     "start_time": "2021-11-04T18:56:07.979234",
     "status": "completed"
    },
    "tags": []
   },
   "source": [
    "### Shuffle the data"
   ]
  },
  {
   "cell_type": "code",
   "execution_count": 11,
   "id": "abe4b814",
   "metadata": {
    "execution": {
     "iopub.execute_input": "2021-11-04T18:56:08.068807Z",
     "iopub.status.busy": "2021-11-04T18:56:08.068092Z",
     "iopub.status.idle": "2021-11-04T18:56:08.072628Z",
     "shell.execute_reply": "2021-11-04T18:56:08.071895Z",
     "shell.execute_reply.started": "2021-11-04T18:54:30.673495Z"
    },
    "papermill": {
     "duration": 0.039666,
     "end_time": "2021-11-04T18:56:08.072796",
     "exception": false,
     "start_time": "2021-11-04T18:56:08.033130",
     "status": "completed"
    },
    "tags": []
   },
   "outputs": [],
   "source": [
    "# When the data was collected it was actually arranged by date\n",
    "# Shuffle the indices of the data, so the data is not arranged in any way when we feed it.\n",
    "# Since we will be batching, we want the data to be as randomly spread out as possible\n",
    "shuffled_indices = np.arange(scaled_inputs.shape[0])\n",
    "np.random.shuffle(shuffled_indices)\n",
    "\n",
    "# Use the shuffled indices to shuffle the inputs and targets.\n",
    "shuffled_inputs = scaled_inputs[shuffled_indices]\n",
    "shuffled_targets = targets_equal_priors[shuffled_indices]"
   ]
  },
  {
   "cell_type": "markdown",
   "id": "5e461a2e",
   "metadata": {
    "papermill": {
     "duration": 0.027421,
     "end_time": "2021-11-04T18:56:08.128326",
     "exception": false,
     "start_time": "2021-11-04T18:56:08.100905",
     "status": "completed"
    },
    "tags": []
   },
   "source": [
    "### Split the dataset into train, validation, and test"
   ]
  },
  {
   "cell_type": "code",
   "execution_count": 12,
   "id": "f651d087",
   "metadata": {
    "execution": {
     "iopub.execute_input": "2021-11-04T18:56:08.193359Z",
     "iopub.status.busy": "2021-11-04T18:56:08.192598Z",
     "iopub.status.idle": "2021-11-04T18:56:08.198879Z",
     "shell.execute_reply": "2021-11-04T18:56:08.199433Z",
     "shell.execute_reply.started": "2021-11-04T18:54:30.683252Z"
    },
    "papermill": {
     "duration": 0.044294,
     "end_time": "2021-11-04T18:56:08.199632",
     "exception": false,
     "start_time": "2021-11-04T18:56:08.155338",
     "status": "completed"
    },
    "tags": []
   },
   "outputs": [
    {
     "name": "stdout",
     "output_type": "stream",
     "text": [
      "1775 3579 0.49594858899133837\n",
      "234 447 0.5234899328859061\n",
      "228 448 0.5089285714285714\n"
     ]
    }
   ],
   "source": [
    "# Count the total number of samples\n",
    "samples_count = shuffled_inputs.shape[0]\n",
    "\n",
    "# Count the samples in each subset, assuming we want 80-10-10 distribution of training, validation, and test.\n",
    "# Naturally, the numbers are integers.\n",
    "train_samples_count = int(0.8 * samples_count)\n",
    "validation_samples_count = int(0.1 * samples_count)\n",
    "\n",
    "# The 'test' dataset contains all remaining data.\n",
    "test_samples_count = samples_count - train_samples_count - validation_samples_count\n",
    "\n",
    "# Create variables that record the inputs and targets for training\n",
    "# In our shuffled dataset, they are the first \"train_samples_count\" observations\n",
    "train_inputs = shuffled_inputs[:train_samples_count]\n",
    "train_targets = shuffled_targets[:train_samples_count]\n",
    "\n",
    "# Create variables that record the inputs and targets for validation.\n",
    "# They are the next \"validation_samples_count\" observations, folllowing the \"train_samples_count\" we already assigned\n",
    "validation_inputs = shuffled_inputs[train_samples_count:train_samples_count+validation_samples_count]\n",
    "validation_targets = shuffled_targets[train_samples_count:train_samples_count+validation_samples_count]\n",
    "\n",
    "# Create variables that record the inputs and targets for test.\n",
    "# They are everything that is remaining.\n",
    "test_inputs = shuffled_inputs[train_samples_count+validation_samples_count:]\n",
    "test_targets = shuffled_targets[train_samples_count+validation_samples_count:]\n",
    "\n",
    "# We balanced our dataset to be 50-50 (for targets 0 and 1), but the training, validation, and test were \n",
    "# taken from a shuffled dataset. Check if they are balanced, too. Note that each time you rerun this code, \n",
    "# you will get different values, as each time they are shuffled randomly.\n",
    "# Normally you preprocess ONCE, so you need not rerun this code once it is done.\n",
    "# If you rerun this whole sheet, the npzs will be overwritten with your newly preprocessed data.\n",
    "\n",
    "# Print the number of targets that are 1s, the total number of samples, and the proportion for training, validation, and test.\n",
    "print(np.sum(train_targets), train_samples_count, np.sum(train_targets) / train_samples_count)\n",
    "print(np.sum(validation_targets), validation_samples_count, np.sum(validation_targets) / validation_samples_count)\n",
    "print(np.sum(test_targets), test_samples_count, np.sum(test_targets) / test_samples_count)"
   ]
  },
  {
   "cell_type": "markdown",
   "id": "2f8845c4",
   "metadata": {
    "papermill": {
     "duration": 0.025566,
     "end_time": "2021-11-04T18:56:08.251019",
     "exception": false,
     "start_time": "2021-11-04T18:56:08.225453",
     "status": "completed"
    },
    "tags": []
   },
   "source": [
    "### Save the three datasets in *.npz"
   ]
  },
  {
   "cell_type": "code",
   "execution_count": 13,
   "id": "1ca4be77",
   "metadata": {
    "execution": {
     "iopub.execute_input": "2021-11-04T18:56:08.306237Z",
     "iopub.status.busy": "2021-11-04T18:56:08.305362Z",
     "iopub.status.idle": "2021-11-04T18:56:08.315193Z",
     "shell.execute_reply": "2021-11-04T18:56:08.315806Z",
     "shell.execute_reply.started": "2021-11-04T18:54:30.699173Z"
    },
    "papermill": {
     "duration": 0.040251,
     "end_time": "2021-11-04T18:56:08.316064",
     "exception": false,
     "start_time": "2021-11-04T18:56:08.275813",
     "status": "completed"
    },
    "tags": []
   },
   "outputs": [],
   "source": [
    "# Save the three datasets in *.npz.\n",
    "# In the next lesson, you will see that it is extremely valuable to name them in such a coherent way!\n",
    "\n",
    "np.savez('Audiobooks_data_train', inputs=train_inputs, targets=train_targets)\n",
    "np.savez('Audiobooks_data_validation', inputs=validation_inputs, targets=validation_targets)\n",
    "np.savez('Audiobooks_data_test', inputs=test_inputs, targets=test_targets)"
   ]
  },
  {
   "cell_type": "markdown",
   "id": "61342384",
   "metadata": {
    "papermill": {
     "duration": 0.024404,
     "end_time": "2021-11-04T18:56:08.366800",
     "exception": false,
     "start_time": "2021-11-04T18:56:08.342396",
     "status": "completed"
    },
    "tags": []
   },
   "source": [
    "## Create the machine learning algorithm"
   ]
  },
  {
   "cell_type": "markdown",
   "id": "bcb466b6",
   "metadata": {
    "papermill": {
     "duration": 0.024474,
     "end_time": "2021-11-04T18:56:08.416053",
     "exception": false,
     "start_time": "2021-11-04T18:56:08.391579",
     "status": "completed"
    },
    "tags": []
   },
   "source": [
    "### Data"
   ]
  },
  {
   "cell_type": "code",
   "execution_count": 14,
   "id": "66a5f8a0",
   "metadata": {
    "execution": {
     "iopub.execute_input": "2021-11-04T18:56:08.469484Z",
     "iopub.status.busy": "2021-11-04T18:56:08.468751Z",
     "iopub.status.idle": "2021-11-04T18:56:08.482624Z",
     "shell.execute_reply": "2021-11-04T18:56:08.483207Z",
     "shell.execute_reply.started": "2021-11-04T18:54:30.718884Z"
    },
    "papermill": {
     "duration": 0.042827,
     "end_time": "2021-11-04T18:56:08.483437",
     "exception": false,
     "start_time": "2021-11-04T18:56:08.440610",
     "status": "completed"
    },
    "tags": []
   },
   "outputs": [],
   "source": [
    "# let's create a temporary variable npz, where we will store each of the three Audiobooks datasets\n",
    "npz = np.load('Audiobooks_data_train.npz')\n",
    "\n",
    "# we extract the inputs using the keyword under which we saved them\n",
    "# to ensure that they are all floats, let's also take care of that\n",
    "train_inputs = npz['inputs'].astype(np.float)\n",
    "# targets must be int because of sparse_categorical_crossentropy (we want to be able to smoothly one-hot encode them)\n",
    "train_targets = npz['targets'].astype(np.int)\n",
    "\n",
    "# we load the validation data in the temporary variable\n",
    "npz = np.load('Audiobooks_data_validation.npz')\n",
    "# we can load the inputs and the targets in the same line\n",
    "validation_inputs, validation_targets = npz['inputs'].astype(np.float), npz['targets'].astype(np.int)\n",
    "\n",
    "# we load the test data in the temporary variable\n",
    "npz = np.load('Audiobooks_data_test.npz')\n",
    "# we create 2 variables that will contain the test inputs and the test targets\n",
    "test_inputs, test_targets = npz['inputs'].astype(np.float), npz['targets'].astype(np.int)"
   ]
  },
  {
   "cell_type": "markdown",
   "id": "3e757b54",
   "metadata": {
    "papermill": {
     "duration": 0.024313,
     "end_time": "2021-11-04T18:56:08.532590",
     "exception": false,
     "start_time": "2021-11-04T18:56:08.508277",
     "status": "completed"
    },
    "tags": []
   },
   "source": [
    "### Model\n",
    "Outline, optimizers, loss, early stopping and training"
   ]
  },
  {
   "cell_type": "code",
   "execution_count": 15,
   "id": "06a2a5cf",
   "metadata": {
    "execution": {
     "iopub.execute_input": "2021-11-04T18:56:08.586055Z",
     "iopub.status.busy": "2021-11-04T18:56:08.585300Z",
     "iopub.status.idle": "2021-11-04T18:56:13.414476Z",
     "shell.execute_reply": "2021-11-04T18:56:13.415044Z",
     "shell.execute_reply.started": "2021-11-04T18:54:30.734851Z"
    },
    "papermill": {
     "duration": 4.85792,
     "end_time": "2021-11-04T18:56:13.415270",
     "exception": false,
     "start_time": "2021-11-04T18:56:08.557350",
     "status": "completed"
    },
    "tags": []
   },
   "outputs": [
    {
     "name": "stderr",
     "output_type": "stream",
     "text": [
      "\n",
      "User settings:\n",
      "\n",
      "   KMP_AFFINITY=granularity=fine,verbose,compact,1,0\n",
      "   KMP_BLOCKTIME=0\n",
      "   KMP_DUPLICATE_LIB_OK=True\n",
      "   KMP_INIT_AT_FORK=FALSE\n",
      "   KMP_SETTINGS=1\n",
      "   KMP_WARNINGS=0\n",
      "\n",
      "Effective settings:\n",
      "\n",
      "   KMP_ABORT_DELAY=0\n",
      "   KMP_ADAPTIVE_LOCK_PROPS='1,1024'\n",
      "   KMP_ALIGN_ALLOC=64\n",
      "   KMP_ALL_THREADPRIVATE=128\n",
      "   KMP_ATOMIC_MODE=2\n",
      "   KMP_BLOCKTIME=0\n",
      "   KMP_CPUINFO_FILE: value is not defined\n",
      "   KMP_DETERMINISTIC_REDUCTION=false\n",
      "   KMP_DEVICE_THREAD_LIMIT=2147483647\n",
      "   KMP_DISP_NUM_BUFFERS=7\n",
      "   KMP_DUPLICATE_LIB_OK=true\n",
      "   KMP_ENABLE_TASK_THROTTLING=true\n",
      "   KMP_FORCE_REDUCTION: value is not defined\n",
      "   KMP_FOREIGN_THREADS_THREADPRIVATE=true\n",
      "   KMP_FORKJOIN_BARRIER='2,2'\n",
      "   KMP_FORKJOIN_BARRIER_PATTERN='hyper,hyper'\n",
      "   KMP_GTID_MODE=3\n",
      "   KMP_HANDLE_SIGNALS=false\n",
      "   KMP_HOT_TEAMS_MAX_LEVEL=1\n",
      "   KMP_HOT_TEAMS_MODE=0\n",
      "   KMP_INIT_AT_FORK=true\n",
      "   KMP_LIBRARY=throughput\n",
      "   KMP_LOCK_KIND=queuing\n",
      "   KMP_MALLOC_POOL_INCR=1M\n",
      "   KMP_NUM_LOCKS_IN_BLOCK=1\n",
      "   KMP_PLAIN_BARRIER='2,2'\n",
      "   KMP_PLAIN_BARRIER_PATTERN='hyper,hyper'\n",
      "   KMP_REDUCTION_BARRIER='1,1'\n",
      "   KMP_REDUCTION_BARRIER_PATTERN='hyper,hyper'\n",
      "   KMP_SCHEDULE='static,balanced;guided,iterative'\n",
      "   KMP_SETTINGS=true\n",
      "   KMP_SPIN_BACKOFF_PARAMS='4096,100'\n",
      "   KMP_STACKOFFSET=64\n",
      "   KMP_STACKPAD=0\n",
      "   KMP_STACKSIZE=8M\n",
      "   KMP_STORAGE_MAP=false\n",
      "   KMP_TASKING=2\n",
      "   KMP_TASKLOOP_MIN_TASKS=0\n",
      "   KMP_TASK_STEALING_CONSTRAINT=1\n",
      "   KMP_TEAMS_THREAD_LIMIT=4\n",
      "   KMP_TOPOLOGY_METHOD=all\n",
      "   KMP_USE_YIELD=1\n",
      "   KMP_VERSION=false\n",
      "   KMP_WARNINGS=false\n",
      "   OMP_AFFINITY_FORMAT='OMP: pid %P tid %i thread %n bound to OS proc set {%A}'\n",
      "   OMP_ALLOCATOR=omp_default_mem_alloc\n",
      "   OMP_CANCELLATION=false\n",
      "   OMP_DEFAULT_DEVICE=0\n",
      "   OMP_DISPLAY_AFFINITY=false\n",
      "   OMP_DISPLAY_ENV=false\n",
      "   OMP_DYNAMIC=false\n",
      "   OMP_MAX_ACTIVE_LEVELS=1\n",
      "   OMP_MAX_TASK_PRIORITY=0\n",
      "   OMP_NESTED: deprecated; max-active-levels-var=1\n",
      "   OMP_NUM_THREADS: value is not defined\n",
      "   OMP_PLACES: value is not defined\n",
      "   OMP_PROC_BIND='intel'\n",
      "   OMP_SCHEDULE='static'\n",
      "   OMP_STACKSIZE=8M\n",
      "   OMP_TARGET_OFFLOAD=DEFAULT\n",
      "   OMP_THREAD_LIMIT=2147483647\n",
      "   OMP_WAIT_POLICY=PASSIVE\n",
      "   KMP_AFFINITY='verbose,warnings,respect,granularity=fine,compact,1,0'\n",
      "\n",
      "2021-11-04 18:56:09.807068: I tensorflow/core/common_runtime/process_util.cc:146] Creating new thread pool with default inter op setting: 2. Tune using inter_op_parallelism_threads for best performance.\n",
      "2021-11-04 18:56:10.237336: I tensorflow/compiler/mlir/mlir_graph_optimization_pass.cc:185] None of the MLIR Optimization Passes are enabled (registered 2)\n"
     ]
    },
    {
     "name": "stdout",
     "output_type": "stream",
     "text": [
      "Epoch 1/100\n",
      "36/36 - 1s - loss: 0.6121 - accuracy: 0.6505 - val_loss: 0.5357 - val_accuracy: 0.7338\n",
      "Epoch 2/100\n",
      "36/36 - 0s - loss: 0.4833 - accuracy: 0.7527 - val_loss: 0.4710 - val_accuracy: 0.7338\n",
      "Epoch 3/100\n",
      "36/36 - 0s - loss: 0.4297 - accuracy: 0.7667 - val_loss: 0.4294 - val_accuracy: 0.7718\n",
      "Epoch 4/100\n",
      "36/36 - 0s - loss: 0.3989 - accuracy: 0.7890 - val_loss: 0.4064 - val_accuracy: 0.7785\n",
      "Epoch 5/100\n",
      "36/36 - 0s - loss: 0.3809 - accuracy: 0.7949 - val_loss: 0.3891 - val_accuracy: 0.8054\n",
      "Epoch 6/100\n",
      "36/36 - 0s - loss: 0.3685 - accuracy: 0.8055 - val_loss: 0.3746 - val_accuracy: 0.8143\n",
      "Epoch 7/100\n",
      "36/36 - 0s - loss: 0.3584 - accuracy: 0.8075 - val_loss: 0.3731 - val_accuracy: 0.8098\n",
      "Epoch 8/100\n",
      "36/36 - 0s - loss: 0.3539 - accuracy: 0.8103 - val_loss: 0.3651 - val_accuracy: 0.8210\n",
      "Epoch 9/100\n",
      "36/36 - 0s - loss: 0.3485 - accuracy: 0.8122 - val_loss: 0.3590 - val_accuracy: 0.8143\n",
      "Epoch 10/100\n",
      "36/36 - 0s - loss: 0.3432 - accuracy: 0.8128 - val_loss: 0.3591 - val_accuracy: 0.7987\n",
      "Epoch 11/100\n",
      "36/36 - 0s - loss: 0.3463 - accuracy: 0.8131 - val_loss: 0.3666 - val_accuracy: 0.8188\n"
     ]
    },
    {
     "data": {
      "text/plain": [
       "<keras.callbacks.History at 0x7f7b06df01d0>"
      ]
     },
     "execution_count": 15,
     "metadata": {},
     "output_type": "execute_result"
    }
   ],
   "source": [
    "# Set the input and output sizes\n",
    "input_size = 10\n",
    "output_size = 2\n",
    "# Use same hidden layer size for both hidden layers. Not a necessity.\n",
    "hidden_layer_size = 50\n",
    "    \n",
    "# define how the model will look like\n",
    "model = tf.keras.Sequential([\n",
    "    # tf.keras.layers.Dense is basically implementing: output = activation(dot(input, weight) + bias)\n",
    "    # it takes several arguments, but the most important ones for us are the hidden_layer_size and the activation function\n",
    "    tf.keras.layers.Dense(hidden_layer_size, activation='relu'), # 1st hidden layer\n",
    "    tf.keras.layers.Dense(hidden_layer_size, activation='relu'), # 2nd hidden layer\n",
    "    # the final layer is no different, we just make sure to activate it with softmax\n",
    "    tf.keras.layers.Dense(output_size, activation='softmax') # output layer\n",
    "])\n",
    "\n",
    "\n",
    "### Choose the optimizer and the loss function\n",
    "\n",
    "# we define the optimizer we'd like to use, \n",
    "# the loss function, \n",
    "# and the metrics we are interested in obtaining at each iteration\n",
    "model.compile(optimizer='adam', loss='sparse_categorical_crossentropy', metrics=['accuracy'])\n",
    "\n",
    "### Training\n",
    "# That's where we train the model we have built.\n",
    "\n",
    "# set the batch size\n",
    "batch_size = 100\n",
    "\n",
    "# set a maximum number of training epochs\n",
    "max_epochs = 100\n",
    "\n",
    "# set an early stopping mechanism\n",
    "# let's set patience=2, to be a bit tolerant against random validation loss increases\n",
    "early_stopping = tf.keras.callbacks.EarlyStopping(patience=2)\n",
    "\n",
    "# fit the model\n",
    "# note that this time the train, validation and test data are not iterable\n",
    "model.fit(train_inputs, # train inputs\n",
    "          train_targets, # train targets\n",
    "          batch_size=batch_size, # batch size\n",
    "          epochs=max_epochs, # epochs that we will train for (assuming early stopping doesn't kick in)\n",
    "          # callbacks are functions called by a task when a task is completed\n",
    "          # task here is to check if val_loss is increasing\n",
    "          callbacks=[early_stopping], # early stopping\n",
    "          validation_data=(validation_inputs, validation_targets), # validation data\n",
    "          verbose = 2 # making sure we get enough information about the training process\n",
    "          )  "
   ]
  },
  {
   "cell_type": "markdown",
   "id": "d277bdf1",
   "metadata": {
    "papermill": {
     "duration": 0.031647,
     "end_time": "2021-11-04T18:56:13.479059",
     "exception": false,
     "start_time": "2021-11-04T18:56:13.447412",
     "status": "completed"
    },
    "tags": []
   },
   "source": [
    "## Test the model\n",
    "\n",
    "As we discussed in the lectures, after training on the training data and validating on the validation data, we test the final prediction power of our model by running it on the test dataset that the algorithm has NEVER seen before.\n",
    "\n",
    "It is very important to realize that fiddling with the hyperparameters overfits the validation dataset. \n",
    "\n",
    "The test is the absolute final instance. You should not test before you are completely done with adjusting your model.\n",
    "\n",
    "If you adjust your model after testing, you will start overfitting the test dataset, which will defeat its purpose."
   ]
  },
  {
   "cell_type": "code",
   "execution_count": 16,
   "id": "4c626d4d",
   "metadata": {
    "execution": {
     "iopub.execute_input": "2021-11-04T18:56:13.549645Z",
     "iopub.status.busy": "2021-11-04T18:56:13.548943Z",
     "iopub.status.idle": "2021-11-04T18:56:13.761704Z",
     "shell.execute_reply": "2021-11-04T18:56:13.762514Z",
     "shell.execute_reply.started": "2021-11-04T18:54:32.989691Z"
    },
    "papermill": {
     "duration": 0.251435,
     "end_time": "2021-11-04T18:56:13.762745",
     "exception": false,
     "start_time": "2021-11-04T18:56:13.511310",
     "status": "completed"
    },
    "tags": []
   },
   "outputs": [
    {
     "name": "stdout",
     "output_type": "stream",
     "text": [
      "14/14 [==============================] - 0s 2ms/step - loss: 0.3390 - accuracy: 0.8170\n"
     ]
    }
   ],
   "source": [
    "test_loss, test_accuracy = model.evaluate(test_inputs, test_targets)"
   ]
  },
  {
   "cell_type": "code",
   "execution_count": 17,
   "id": "0f9acdc3",
   "metadata": {
    "execution": {
     "iopub.execute_input": "2021-11-04T18:56:13.839723Z",
     "iopub.status.busy": "2021-11-04T18:56:13.838920Z",
     "iopub.status.idle": "2021-11-04T18:56:13.843340Z",
     "shell.execute_reply": "2021-11-04T18:56:13.842531Z",
     "shell.execute_reply.started": "2021-11-04T18:54:33.203304Z"
    },
    "papermill": {
     "duration": 0.046208,
     "end_time": "2021-11-04T18:56:13.843536",
     "exception": false,
     "start_time": "2021-11-04T18:56:13.797328",
     "status": "completed"
    },
    "tags": []
   },
   "outputs": [
    {
     "name": "stdout",
     "output_type": "stream",
     "text": [
      "\n",
      "Test loss: 0.34. Test accuracy: 81.70%\n"
     ]
    }
   ],
   "source": [
    "print('\\nTest loss: {0:.2f}. Test accuracy: {1:.2f}%'.format(test_loss, test_accuracy*100.))"
   ]
  },
  {
   "cell_type": "markdown",
   "id": "0b9ca277",
   "metadata": {
    "papermill": {
     "duration": 0.035275,
     "end_time": "2021-11-04T18:56:13.914270",
     "exception": false,
     "start_time": "2021-11-04T18:56:13.878995",
     "status": "completed"
    },
    "tags": []
   },
   "source": [
    "Using the initial model and hyperparameters given in this notebook, the final test accuracy should be roughly around 91%.\n",
    "\n",
    "Note that each time the code is rerun, we get a different accuracy because each training is different. \n",
    "\n",
    "We have intentionally reached a suboptimal solution, so you can have space to build on it!"
   ]
  }
 ],
 "metadata": {
  "kernelspec": {
   "display_name": "Python 3",
   "language": "python",
   "name": "python3"
  },
  "language_info": {
   "codemirror_mode": {
    "name": "ipython",
    "version": 3
   },
   "file_extension": ".py",
   "mimetype": "text/x-python",
   "name": "python",
   "nbconvert_exporter": "python",
   "pygments_lexer": "ipython3",
   "version": "3.7.10"
  },
  "papermill": {
   "default_parameters": {},
   "duration": 26.808785,
   "end_time": "2021-11-04T18:56:16.995831",
   "environment_variables": {},
   "exception": null,
   "input_path": "__notebook__.ipynb",
   "output_path": "__notebook__.ipynb",
   "parameters": {},
   "start_time": "2021-11-04T18:55:50.187046",
   "version": "2.3.3"
  }
 },
 "nbformat": 4,
 "nbformat_minor": 5
}
